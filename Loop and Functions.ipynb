{
 "metadata": {
  "language_info": {
   "codemirror_mode": {
    "name": "ipython",
    "version": 3
   },
   "file_extension": ".py",
   "mimetype": "text/x-python",
   "name": "python",
   "nbconvert_exporter": "python",
   "pygments_lexer": "ipython3",
   "version": "3.9.1-final"
  },
  "orig_nbformat": 2,
  "kernelspec": {
   "name": "python3",
   "display_name": "Python 3.9.1 64-bit",
   "metadata": {
    "interpreter": {
     "hash": "ac59ebe37160ed0dfa835113d9b8498d9f09ceb179beaac4002f036b9467c963"
    }
   }
  }
 },
 "nbformat": 4,
 "nbformat_minor": 2,
 "cells": [
  {
   "source": [
    "# 12 Maret 2021"
   ],
   "cell_type": "markdown",
   "metadata": {}
  },
  {
   "source": [
    "## Lists\n",
    "- Menggunakan Square brackets ('\\[' dan '\\]')\n",
    "- Elemen ditunjukkan menggunakan index\n",
    "- Lists can be nested and iterated through\n",
    "- Cek panjang menggunakan `len(listToMeasure)`"
   ],
   "cell_type": "markdown",
   "metadata": {}
  },
  {
   "cell_type": "code",
   "execution_count": 2,
   "metadata": {},
   "outputs": [
    {
     "output_type": "stream",
     "name": "stdout",
     "text": [
      "List content: [10, 5, 7, 2, 1]\n<class 'int'>\n<class 'str'>\n"
     ]
    }
   ],
   "source": [
    "numbers = [10, 5, 7, 2, 1]\n",
    "print (\"List content: {lst}\".format(lst = numbers))\n",
    "print(type(numbers[2]))\n",
    "num2 = [10, 5, \"7\", \"2\", [1]]\n",
    "print(type(num2[2]))"
   ]
  },
  {
   "cell_type": "code",
   "execution_count": 5,
   "metadata": {},
   "outputs": [
    {
     "output_type": "stream",
     "name": "stdout",
     "text": [
      "List content: [10, 5, 7, 2, 1]\n1\n1\n"
     ]
    }
   ],
   "source": [
    "numbers = [10, 5, 7, 2, 1]\n",
    "print (\"List content: {lst}\".format(lst = numbers))\n",
    "print(numbers[len(numbers) - 1])\n",
    "print(numbers[-1])\n"
   ]
  },
  {
   "source": [
    "## Remove elements from list\n",
    "- Akan ada pergeseran yang melanjutkan dari posisi yang dihapus\n",
    "- Menggunakan fungsi `del()`\n",
    "- Elemen yang tidak ada tidak bisa diakses"
   ],
   "cell_type": "markdown",
   "metadata": {}
  },
  {
   "cell_type": "code",
   "execution_count": 6,
   "metadata": {},
   "outputs": [
    {
     "output_type": "stream",
     "name": "stdout",
     "text": [
      "List content: [10, 5, 7, 2, 1]\nList content: [10, 5, 2, 1]\n"
     ]
    }
   ],
   "source": [
    "numbers = [10, 5, 7, 2, 1]\n",
    "print (\"List content: {lst}\".format(lst = numbers))\n",
    "del(numbers[2])\n",
    "print (\"List content: {lst}\".format(lst = numbers))"
   ]
  },
  {
   "cell_type": "code",
   "execution_count": 7,
   "metadata": {},
   "outputs": [
    {
     "output_type": "stream",
     "name": "stdout",
     "text": [
      "4\n[1, 2, 2, 4]\n"
     ]
    }
   ],
   "source": [
    "hat_list = [1, 2, 3, 4, 5]  # This is an existing list of numbers hidden in the hat.\n",
    "\n",
    "# Step 1: write a line of code that prompts the user\n",
    "# to replace the middle number with an integer number entered by the user.\n",
    "hat_list[2] = int(input(\"Enter your number\"))\n",
    "# Step 2: write a line of code that removes the last element from the list.\n",
    "del(hat_list[-1])\n",
    "# Step 3: write a line of code that prints the length of the existing list.\n",
    "print(len(hat_list))\n",
    "print(hat_list)\n"
   ]
  },
  {
   "source": [
    "## Functions vs Methods\n",
    "- Function tidak dimiliki oleh class\n",
    "- Methods dimiliki oleh class dan dapat mengubah state dari class pemilik"
   ],
   "cell_type": "markdown",
   "metadata": {}
  },
  {
   "cell_type": "code",
   "execution_count": 8,
   "metadata": {},
   "outputs": [
    {
     "output_type": "stream",
     "name": "stdout",
     "text": [
      "4\n[111, 7, 2, 1]\n5\n[111, 7, 2, 1, 4]\n6\n[222, 111, 7, 2, 1, 4]\n"
     ]
    }
   ],
   "source": [
    "numbers = [111, 7, 2, 1]\n",
    "print(len(numbers))\n",
    "print(numbers)\n",
    "\n",
    "###\n",
    "\n",
    "numbers.append(4)\n",
    "\n",
    "print(len(numbers))\n",
    "print(numbers)\n",
    "\n",
    "###\n",
    "\n",
    "numbers.insert(0, 222)\n",
    "print(len(numbers))\n",
    "print(numbers)\n",
    "\n",
    "#\n"
   ]
  },
  {
   "source": [
    "- `del()` digunakan untuk menghapus pointer variabel yang ditunjuk dari memory"
   ],
   "cell_type": "markdown",
   "metadata": {}
  },
  {
   "cell_type": "code",
   "execution_count": 9,
   "metadata": {},
   "outputs": [
    {
     "output_type": "stream",
     "name": "stdout",
     "text": [
      "[1, 2, 3, 4, 5]\n[1, 2, 3, 4, 5]\n"
     ]
    }
   ],
   "source": [
    "myList = []\n",
    "myList2 = list()\n",
    "\n",
    "for iter in range(5):\n",
    "    myList.append(iter + 1)\n",
    "    myList2.append(iter + 1)\n",
    "\n",
    "print(myList)\n",
    "print(myList2)"
   ]
  },
  {
   "cell_type": "code",
   "execution_count": 10,
   "metadata": {},
   "outputs": [
    {
     "output_type": "stream",
     "name": "stdout",
     "text": [
      "27\n"
     ]
    }
   ],
   "source": [
    "my_list = [10, 1, 8, 3, 5]\n",
    "total = 0\n",
    "\n",
    "for i in range(len(my_list)):\n",
    "    total += my_list[i]\n",
    "\n",
    "print(total)"
   ]
  },
  {
   "cell_type": "code",
   "execution_count": 11,
   "metadata": {},
   "outputs": [
    {
     "output_type": "stream",
     "name": "stdout",
     "text": [
      "27\n"
     ]
    }
   ],
   "source": [
    "my_list = [10, 1, 8, 3, 5]\n",
    "total = 0\n",
    "\n",
    "for i in my_list:\n",
    "    total += i\n",
    "\n",
    "print(total)"
   ]
  },
  {
   "source": [
    "## Python's covenient variable value swapping"
   ],
   "cell_type": "markdown",
   "metadata": {}
  },
  {
   "cell_type": "code",
   "execution_count": null,
   "metadata": {},
   "outputs": [],
   "source": [
    "variable_1 = 1\n",
    "variable_2 = 2\n",
    "\n",
    "# Python's covenient variable value swapping\n",
    "variable_1, variable_2 = variable_2, variable_1"
   ]
  },
  {
   "cell_type": "code",
   "execution_count": null,
   "metadata": {},
   "outputs": [],
   "source": [
    "beatles = []\n",
    "\n",
    "# step 1\n",
    "print(\"Step 1:\", beatles)\n",
    "\n",
    "# step 2\n",
    "print(\"Step 2:\", beatles)\n",
    "\n",
    "# step 3\n",
    "print(\"Step 3:\", beatles)\n",
    "\n",
    "# step 4\n",
    "print(\"Step 4:\", beatles)\n",
    "\n",
    "# step 5\n",
    "print(\"Step 5:\", beatles)\n",
    "\n",
    "\n",
    "# testing list legth\n",
    "print(\"The Fab\", len(beatles))\n"
   ]
  },
  {
   "source": [
    "## Sorting\n",
    "- List memiliki metode `sort(reverse = [Boolean])`\n",
    "- Basic sorting: bubble sorting (tidak efisien)\n",
    "- `reverse()` membalikkan urutan dari elemen-elemen di dalam list"
   ],
   "cell_type": "markdown",
   "metadata": {}
  },
  {
   "cell_type": "code",
   "execution_count": 12,
   "metadata": {},
   "outputs": [
    {
     "output_type": "stream",
     "name": "stdout",
     "text": [
      "[2, 4, 6, 8, 10]\n"
     ]
    }
   ],
   "source": [
    "my_list = [8, 10, 6, 2, 4]  # list to sort\n",
    "swapped = True  # It's a little fake, we need it to enter the while loop.\n",
    "\n",
    "while swapped:\n",
    "    swapped = False  # no swaps so far\n",
    "    for i in range(len(my_list) - 1):\n",
    "        if my_list[i] > my_list[i + 1]:\n",
    "            swapped = True  # a swap occurred!\n",
    "            my_list[i], my_list[i + 1] = my_list[i + 1], my_list[i]\n",
    "\n",
    "print(my_list)\n"
   ]
  },
  {
   "source": [
    "## `insert(position, value)` dan `append(value)`\n",
    "- `position` shows the required location of the element to be inserted; note: all the existing elements that occupy locations to the right of the new element (including the one at the indicated position) are shifted to the right, in order to make space for the new element;\n",
    "- `value` second is the element to be inserted.\n",
    "- `append(value)` menambahkan `value` di bagian paling akhir dari list"
   ],
   "cell_type": "markdown",
   "metadata": {}
  },
  {
   "cell_type": "code",
   "execution_count": 3,
   "metadata": {},
   "outputs": [
    {
     "output_type": "stream",
     "name": "stdout",
     "text": [
      "[0, 1, 2]\n[0, 3, 1, 2]\n[0, 3, 1, 4, 2]\n"
     ]
    },
    {
     "output_type": "error",
     "ename": "TypeError",
     "evalue": "insert expected 2 arguments, got 1",
     "traceback": [
      "\u001b[1;31m---------------------------------------------------------------------------\u001b[0m",
      "\u001b[1;31mTypeError\u001b[0m                                 Traceback (most recent call last)",
      "\u001b[1;32m<ipython-input-3-445ce6403b8e>\u001b[0m in \u001b[0;36m<module>\u001b[1;34m\u001b[0m\n\u001b[0;32m      5\u001b[0m \u001b[0mlist_1\u001b[0m\u001b[1;33m.\u001b[0m\u001b[0minsert\u001b[0m\u001b[1;33m(\u001b[0m\u001b[1;33m-\u001b[0m\u001b[1;36m1\u001b[0m\u001b[1;33m,\u001b[0m \u001b[1;36m4\u001b[0m\u001b[1;33m)\u001b[0m\u001b[1;33m\u001b[0m\u001b[1;33m\u001b[0m\u001b[0m\n\u001b[0;32m      6\u001b[0m \u001b[0mprint\u001b[0m\u001b[1;33m(\u001b[0m\u001b[0mlist_1\u001b[0m\u001b[1;33m)\u001b[0m\u001b[1;33m\u001b[0m\u001b[1;33m\u001b[0m\u001b[0m\n\u001b[1;32m----> 7\u001b[1;33m \u001b[0mlist_1\u001b[0m\u001b[1;33m.\u001b[0m\u001b[0minsert\u001b[0m\u001b[1;33m(\u001b[0m\u001b[1;36m5\u001b[0m\u001b[1;33m)\u001b[0m\u001b[1;33m\u001b[0m\u001b[1;33m\u001b[0m\u001b[0m\n\u001b[0m\u001b[0;32m      8\u001b[0m \u001b[0mprint\u001b[0m\u001b[1;33m(\u001b[0m\u001b[0mlist_1\u001b[0m\u001b[1;33m)\u001b[0m\u001b[1;33m\u001b[0m\u001b[1;33m\u001b[0m\u001b[0m\n",
      "\u001b[1;31mTypeError\u001b[0m: insert expected 2 arguments, got 1"
     ]
    }
   ],
   "source": [
    "list_1 = [0,1,2]\n",
    "print(list_1)\n",
    "list_1.insert(1, 3)\n",
    "print(list_1)\n",
    "list_1.insert(-1, 4)\n",
    "print(list_1)\n",
    "list_1.insert(5)\n",
    "print(list_1)"
   ]
  },
  {
   "cell_type": "code",
   "execution_count": 3,
   "metadata": {},
   "outputs": [
    {
     "output_type": "stream",
     "name": "stdout",
     "text": [
      "2522590845824\n2522590845824\n[2]\n"
     ]
    }
   ],
   "source": [
    "list_1 = [1]\n",
    "list_2 = list_1 # This just copies the reference\n",
    "list_1[0] = 2\n",
    "print(id(list_1))\n",
    "print(id(list_2))\n",
    "print(list_2)"
   ]
  },
  {
   "cell_type": "code",
   "execution_count": 2,
   "metadata": {},
   "outputs": [
    {
     "output_type": "stream",
     "name": "stdout",
     "text": [
      "2522590901504\n2522590731456\n[1]\n"
     ]
    }
   ],
   "source": [
    "# Copying the entire list.\n",
    "list_1 = [1]\n",
    "list_2 = list_1[:]\n",
    "list_1[0] = 2\n",
    "print(id(list_1))\n",
    "print(id(list_2))\n",
    "print(list_2)"
   ]
  },
  {
   "cell_type": "code",
   "execution_count": 1,
   "metadata": {},
   "outputs": [
    {
     "output_type": "stream",
     "name": "stdout",
     "text": [
      "2522590721792\n2522590645120\n[8, 6]\n[8, 6, 4]\n"
     ]
    }
   ],
   "source": [
    "# Copying some part of the list.\n",
    "my_list = [10, 8, 6, 4, 2]\n",
    "new_list = my_list[1:3]\n",
    "print(id(my_list))\n",
    "print(id(new_list))\n",
    "print(new_list)\n",
    "new_list = my_list[1:-1]\n",
    "print(new_list)"
   ]
  },
  {
   "source": [
    "## Menggunakan `for` loop\n",
    "- dapat menggunakan `for item in list:`\n",
    "- lebih praktis daripada `for index in range(len(list)):`"
   ],
   "cell_type": "markdown",
   "metadata": {}
  },
  {
   "cell_type": "code",
   "execution_count": 16,
   "metadata": {},
   "outputs": [
    {
     "output_type": "stream",
     "name": "stdout",
     "text": [
      "The list with unique elements only:\n[1, 2, 4, 6, 9]\n"
     ]
    }
   ],
   "source": [
    "my_list = [1, 2, 4, 4, 1, 4, 2, 6, 2, 9]\n",
    "#\n",
    "# Write your code here.\n",
    "#\n",
    "uniqueList = []\n",
    "for element in my_list:\n",
    "    if element not in uniqueList:\n",
    "        uniqueList.append(element)\n",
    "\n",
    "my_list = uniqueList[:]\n",
    "\n",
    "print(\"The list with unique elements only:\")\n",
    "print(my_list)"
   ]
  },
  {
   "source": [
    "## Functions\n",
    "- Untuk bagian program yang diulang-ulang\n",
    "- Harus di-*define* untuk digunakan (lebih baik di-*define* di bagian atas)\n",
    "- *Invocation*: penggunaan fungsi\n",
    "- *Invocation* dapat menggunakan keyword argument\n",
    "- Kalau mau return value tuliskan `return val` di bagian akhir fungsi\n",
    "- Fungsi kosong harus mengandung baris `pass`"
   ],
   "cell_type": "markdown",
   "metadata": {}
  },
  {
   "cell_type": "code",
   "execution_count": 17,
   "metadata": {},
   "outputs": [
    {
     "output_type": "stream",
     "name": "stdout",
     "text": [
      "We start here.\nEnter a value: \nWe end here.\n"
     ]
    }
   ],
   "source": [
    "def message():\n",
    "    print(\"Enter a value: \")\n",
    "\n",
    "print(\"We start here.\")\n",
    "message()\n",
    "print(\"We end here.\")"
   ]
  },
  {
   "cell_type": "code",
   "execution_count": 18,
   "metadata": {},
   "outputs": [
    {
     "output_type": "stream",
     "name": "stdout",
     "text": [
      "Hello, my name is Skywalker Luke\nHello, my name is Quick Jesse\nHello, my name is Kent Clark\n"
     ]
    }
   ],
   "source": [
    "def introduction(first_name, last_name):\n",
    "    print(\"Hello, my name is\", first_name, last_name)\n",
    "\n",
    "introduction(\"Skywalker\", \"Luke\")\n",
    "introduction(\"Quick\", \"Jesse\")\n",
    "introduction(\"Kent\", \"Clark\")\n",
    "introduction(first_name = \"James\", last_name = \"Bond\")\n",
    "introduction(last_name = \"Skywalker\", first_name = \"Luke\")"
   ]
  }
 ]
}