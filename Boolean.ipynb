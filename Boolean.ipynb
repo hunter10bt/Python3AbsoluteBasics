{
 "metadata": {
  "language_info": {
   "codemirror_mode": {
    "name": "ipython",
    "version": 3
   },
   "file_extension": ".py",
   "mimetype": "text/x-python",
   "name": "python",
   "nbconvert_exporter": "python",
   "pygments_lexer": "ipython3",
   "version": "3.9.1-final"
  },
  "orig_nbformat": 2,
  "kernelspec": {
   "name": "python3",
   "display_name": "Python 3.9.1 64-bit",
   "metadata": {
    "interpreter": {
     "hash": "ac59ebe37160ed0dfa835113d9b8498d9f09ceb179beaac4002f036b9467c963"
    }
   }
  }
 },
 "nbformat": 4,
 "nbformat_minor": 2,
 "cells": [
  {
   "source": [
    "# 5 Maret 2021\n"
   ],
   "cell_type": "markdown",
   "metadata": {}
  },
  {
   "source": [
    "## Booelan Values and Conditional Executtion\n",
    "- Boolean values= True dan False\n",
    "- '==' means 'is equal to'\n",
    "- '!=' means 'is not equal to'\n",
    "- '>' means 'greater than'\n",
    "- '>=' means 'greater than or equal to'\n",
    "- '<' means 'less than'\n",
    "- '<=' means 'less than or equal to'\n",
    "- Value Comparison (less & greater) operators have the second lowest priorities\n",
    "- Equality operators have the lowest priority"
   ],
   "cell_type": "markdown",
   "metadata": {}
  },
  {
   "cell_type": "code",
   "execution_count": 1,
   "metadata": {},
   "outputs": [
    {
     "output_type": "stream",
     "name": "stdout",
     "text": [
      "True\n"
     ]
    }
   ],
   "source": [
    "input = input(\"Enter your number: \")\n",
    "n = int(input)\n",
    "\n",
    "print (n >= 100)"
   ]
  },
  {
   "source": [
    "## If / Else\n",
    "- if blocks are executed if conditions are met\n",
    "- Use consistent indentation\n",
    "- elif\n",
    "- else blocks are executed if all other conditions are not met\n",
    "- if-elif-else blocks are known as **cascade** blocks"
   ],
   "cell_type": "markdown",
   "metadata": {}
  },
  {
   "source": [
    "- Pseudocode is not a programming language but it can be understood "
   ],
   "cell_type": "markdown",
   "metadata": {}
  },
  {
   "cell_type": "code",
   "execution_count": 1,
   "metadata": {},
   "outputs": [
    {
     "output_type": "stream",
     "name": "stdout",
     "text": [
      "Yes - Spathiphyllum is the best plant ever!\n"
     ]
    }
   ],
   "source": [
    "userInput = input(\"Enter your string: \")\n",
    "\n",
    "if userInput == \"Spathiphyllum\":\n",
    "    print(\"Yes - Spathiphyllum is the best plant ever!\")\n",
    "elif userInput == \"spathiphyllum\":\n",
    "    print(\"No, I want a big Spathiphyllum!\")\n",
    "else:\n",
    "    print(\"Spathiphyllum! Not {input}!\".format(input = userInput))"
   ]
  },
  {
   "source": [
    "## While Loop\n",
    "- Mengecek kondisi setiap kali iterasi selesai\n",
    "- Kondisi terpenuhi -> iterasi baru\n",
    "- Kondisi gagal -> loop berakhir"
   ],
   "cell_type": "markdown",
   "metadata": {}
  },
  {
   "cell_type": "code",
   "execution_count": 2,
   "metadata": {},
   "outputs": [
    {
     "output_type": "stream",
     "name": "stdout",
     "text": [
      "\n",
      "+================================+\n",
      "| Welcome to my game, muggle!    |\n",
      "| Enter an integer number        |\n",
      "| and guess what number I've     |\n",
      "| picked for you.                |\n",
      "| So, what is the secret number? |\n",
      "+================================+\n",
      "\n",
      "Well done, muggle! You are free now.\n"
     ]
    }
   ],
   "source": [
    "secret_number = 777\n",
    "\n",
    "print(\n",
    "\"\"\"\n",
    "+================================+\n",
    "| Welcome to my game, muggle!    |\n",
    "| Enter an integer number        |\n",
    "| and guess what number I've     |\n",
    "| picked for you.                |\n",
    "| So, what is the secret number? |\n",
    "+================================+\n",
    "\"\"\")\n",
    "\n",
    "userNum = int(input(\"What is the secret number? \"))\n",
    "\n",
    "while secret_number != userNum:\n",
    "    print(\"Ha ha! You're stuck in my loop!\")\n",
    "    userNum = int(input(\"What is the secret number? \"))\n",
    "\n",
    "print(\"Well done, muggle! You are free now.\")"
   ]
  },
  {
   "source": [
    "## For loop\n",
    "- Berguna untuk menghitung iterasi loop\n",
    "- Didesain untuk mengecek kumpulan data yang besar per item\n",
    "- break -> keluar dari loop\n",
    "- continue -> skip iterasi"
   ],
   "cell_type": "markdown",
   "metadata": {}
  },
  {
   "cell_type": "code",
   "execution_count": 3,
   "metadata": {},
   "outputs": [
    {
     "output_type": "stream",
     "name": "stdout",
     "text": [
      "1. Mississippi\n",
      "2. Mississippi\n",
      "3. Mississippi\n",
      "4. Mississippi\n",
      "5. Mississippi\n",
      "Ready or not, here I come!\n"
     ]
    }
   ],
   "source": [
    "import time\n",
    "\n",
    "# Write a for loop that counts to five.\n",
    "for iter in range(5):\n",
    "    # Body of the loop - print the loop iteration number and the word \"Mississippi\".\n",
    "    print(\"{}. Mississippi\".format(iter + 1))\n",
    "    # Body of the loop - use: time.sleep(1)\n",
    "    time.sleep(1)\n",
    "\n",
    "# Write a print function with the final message.\n",
    "print(\"Ready or not, here I come!\")"
   ]
  },
  {
   "cell_type": "code",
   "execution_count": 6,
   "metadata": {},
   "outputs": [
    {
     "output_type": "stream",
     "name": "stdout",
     "text": [
      "D\nF\nG\nG\nR\nR\nG\nV\nF\nR\nG\n"
     ]
    }
   ],
   "source": [
    "# Prompt the user to enter a word\n",
    "user_word = input(\"Enter a word\").upper()\n",
    "# and assign it to the user_word variable.\n",
    "\n",
    "vocal = [\"A\", \"E\", \"I\", \"O\", \"U\"]\n",
    "\n",
    "for letter in user_word:\n",
    "    # Complete the body of the for loop.\n",
    "    if letter in vocal:\n",
    "        continue\n",
    "\n",
    "    print(letter)\n"
   ]
  },
  {
   "cell_type": "code",
   "execution_count": 17,
   "metadata": {},
   "outputs": [
    {
     "output_type": "stream",
     "name": "stdout",
     "text": [
      "The height of the pyramid: 1\n"
     ]
    }
   ],
   "source": [
    "blocks = int(input(\"Enter the number of blocks: \"))\n",
    "height = 0\n",
    "\n",
    "while blocks > height + 1:\n",
    "    blocks -= height + 1\n",
    "    height += 1\n",
    "\n",
    "print(\"The height of the pyramid:\", height)"
   ]
  }
 ]
}