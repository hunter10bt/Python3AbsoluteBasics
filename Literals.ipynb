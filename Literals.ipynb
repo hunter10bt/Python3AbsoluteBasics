{
 "metadata": {
  "language_info": {
   "codemirror_mode": {
    "name": "ipython",
    "version": 3
   },
   "file_extension": ".py",
   "mimetype": "text/x-python",
   "name": "python",
   "nbconvert_exporter": "python",
   "pygments_lexer": "ipython3",
   "version": "3.9.1"
  },
  "orig_nbformat": 2,
  "kernelspec": {
   "name": "python391jvsc74a57bd0ac59ebe37160ed0dfa835113d9b8498d9f09ceb179beaac4002f036b9467c963",
   "display_name": "Python 3.9.1 64-bit"
  }
 },
 "nbformat": 4,
 "nbformat_minor": 2,
 "cells": [
  {
   "source": [
    "# 26 Februari 2021\n"
   ],
   "cell_type": "markdown",
   "metadata": {}
  },
  {
   "source": [
    "## Fungsi\n",
    "- Fungsi terdiri atas argument, effect, dan result\n",
    "- Memisahkan antara parameter dengan tanda koma (\",\")<br>"
   ],
   "cell_type": "markdown",
   "metadata": {}
  },
  {
   "source": [
    "## print()\n",
    "- print() secara default menghasilkan \"\\n\". Argument keyword = 'end'.\n",
    "- print() tanpa end keyword argument menambahkan \"\\n\" secara default.\n",
    "- Backslash digunakan untuk print special character di dalam string.\n",
    "- Contoh: \"\\n\" untuk new line, \"\\t\" untuk tabs, \"\\\\\" untuk print backslash.\n",
    "- print(\"\",\"\",\"\") akan secara default memberikan tanda spasi sebagai pemisah. Argument keyword='sep'.\n",
    "- Konsistensi yang diperlukan - tanda quote paling luar sama.\n",
    "- Konsistensi yang disarankan - gunakan tanda quote (\" atau ') yang sama untuk setiap string."
   ],
   "cell_type": "markdown",
   "metadata": {}
  },
  {
   "cell_type": "code",
   "execution_count": 1,
   "metadata": {},
   "outputs": [
    {
     "output_type": "stream",
     "name": "stdout",
     "text": [
      "The itsy bitsy spider\nclimbed up the waterspout.\n\nDown came the rain\nand washed the spider out.\nMy_name_is*Monty*Python.*\n"
     ]
    }
   ],
   "source": [
    "print(\"The itsy bitsy spider\\nclimbed up the waterspout.\")\n",
    "print()\n",
    "print(\"Down came the rain\\nand washed the spider out.\")\n",
    "print(\"My\", \"name\", \"is\", sep=\"_\", end=\"*\")\n",
    "print(\"Monty\", \"Python.\", sep=\"*\", end=\"*\\n\")\n"
   ]
  },
  {
   "source": [
    "## Literals\n",
    "- A literal is data whose values are determined by the literal itself.\n",
    "- 123 is a literal, but c is not.\n",
    "- literal membedakan tipe data string atau tipe data lainnya."
   ],
   "cell_type": "markdown",
   "metadata": {}
  },
  {
   "source": [
    "## Integer\n",
    "- Python menerima string \"_\" sebagai pemisah mulai dari versi 3.6.\n",
    "- Binary number diawali dengan prefix 0b atau 0B.\n",
    "- Octal number diawali dengan prefix 0o atau 0O.\n",
    "- Hexadecimal number diawali dengan prefix 0x atau 0X."
   ],
   "cell_type": "markdown",
   "metadata": {}
  },
  {
   "cell_type": "code",
   "execution_count": 2,
   "metadata": {},
   "outputs": [
    {
     "output_type": "stream",
     "name": "stdout",
     "text": [
      "111111\n7\n83\n291\n123\n"
     ]
    }
   ],
   "source": [
    "print(111_111)\n",
    "print(0b111) #7\n",
    "print(0o123) #83\n",
    "print(0x123) #291\n",
    "print(123)"
   ]
  },
  {
   "source": [
    "## Float\n",
    "- Float memiliki tanda titik (\".\")\n",
    "- Meskipun nilai sama, tipe data berbeda."
   ],
   "cell_type": "markdown",
   "metadata": {}
  },
  {
   "cell_type": "code",
   "execution_count": 3,
   "metadata": {},
   "outputs": [
    {
     "output_type": "stream",
     "name": "stdout",
     "text": [
      "<class 'int'>\n<class 'float'>\n<class 'type'>\n"
     ]
    }
   ],
   "source": [
    "print(type(4)) #int\n",
    "print(type(4.0)) #float\n",
    "print(type(type(4))) #type"
   ]
  },
  {
   "source": [
    "## Scientific Notation\n",
    "- huruf 'e' menandakan scienific notation pangkat 10.\n",
    "- Contoh: 3e8 = 3 * 10 ** 8 = 30_000_000\n",
    "- Python selalu menggunakan cara yang lebih ekonomis dalam menampilkan nilai."
   ],
   "cell_type": "markdown",
   "metadata": {}
  },
  {
   "cell_type": "code",
   "execution_count": 4,
   "metadata": {},
   "outputs": [
    {
     "output_type": "stream",
     "name": "stdout",
     "text": [
      "300000000.0\n"
     ]
    }
   ],
   "source": [
    "print(3e8) #30_000_000"
   ]
  },
  {
   "source": [
    "## Boolean\n",
    "- Terdiri atas 'True' dan 'False'\n",
    "- True = 1\n",
    "- False = 0"
   ],
   "cell_type": "markdown",
   "metadata": {}
  },
  {
   "cell_type": "code",
   "execution_count": 5,
   "metadata": {},
   "outputs": [
    {
     "output_type": "stream",
     "name": "stdout",
     "text": [
      "True\nFalse\n1\n"
     ]
    }
   ],
   "source": [
    "print(True > False)\n",
    "print(True < False)\n",
    "print(int(True))"
   ]
  },
  {
   "source": [
    "## Aritmethic\n",
    "- Untuk semua operator, tipe hasil yang keluar adalah 'Float' jika salah satu dari operator memiliki tipe 'Float'\n",
    "- Hasil division selalu bertipe 'Float'\n",
    "- Hasil integer division selalu dibulatkan ke satuan dengan nilai yang lebih rendah yang terdekat\n",
    "- Prioritas: Kurung, Pangkat, Kali-bagi-pembagian integer-modulo, tambah-kurang\n",
    "- Semua operator (kecuali pangkat) dioperasikan dari kiri ke kanan\n",
    "- Hasil modulo selalu minus jika operator sebelah kanan bernilai di bawah 0"
   ],
   "cell_type": "markdown",
   "metadata": {}
  },
  {
   "cell_type": "code",
   "execution_count": 6,
   "metadata": {},
   "outputs": [
    {
     "output_type": "stream",
     "name": "stdout",
     "text": [
      "256\n-1\n8\n"
     ]
    }
   ],
   "source": [
    "print( 2 ** 2 ** 3)\n",
    "print( 1 // -3)\n",
    "print( -2 % 10) #8"
   ]
  },
  {
   "source": [
    "## String\n",
    "- Bisa menggunakan tanda ' atau \" untuk deklarasi, harus konsisten\n",
    "- Multi-line string diapit dengan triple quote (\"\"\") dan biasanya digunakan juga untuk multi-line comment\n",
    "- Operator \"+\" digunakan untuk concatenation dengan syarat harus sesama String\n",
    "- Cara convert ke string: str(variable)\n",
    "- String dapat direplikasi: \"string\" * 3 -> \"stringstringstring\""
   ],
   "cell_type": "markdown",
   "metadata": {}
  },
  {
   "cell_type": "code",
   "execution_count": 7,
   "metadata": {},
   "outputs": [
    {
     "output_type": "stream",
     "name": "stdout",
     "text": [
      "This is a string\nthis\nis\na \nmulti-line\ncomment\nThis is a stringthis\nis\na \nmulti-line\ncomment\n"
     ]
    }
   ],
   "source": [
    "string1 = \"This is a string\"\n",
    "print(string1)\n",
    "string2 = \"\"\"this\n",
    "is\n",
    "a \n",
    "multi-line\n",
    "comment\"\"\"\n",
    "print(string2)\n",
    "print(string1 + string2) #Concatenation of string1 and string2"
   ]
  },
  {
   "source": [
    "## Variables\n",
    "- variable mengandung nilai dan nama\n",
    "- Nama variabel diawali dengan letter (termasuk underscore) dan dapat mengandung digits\n",
    "- Nama variabel tidak dapat mengandung spasi\n",
    "- Kapitalisasi harus diperhatikan karena dianggap beda variabel\n",
    "- Keyword yang tidak dapat digunakan: `['False', 'None', 'True', 'and', 'as', 'assert', 'break', 'class', 'continue', 'def', 'del', 'elif', 'else', 'except', 'finally', 'for', 'from', 'global', 'if', 'import', 'in', 'is', 'lambda', 'nonlocal', 'not', 'or', 'pass', 'raise', 'return', 'try', 'while', 'with', 'yield']`\n",
    "- variable dapat mengandung nilai dengan semua tipe literal\n",
    "- Nilai variabel dapat diubah. \n",
    "- Dalam operasi, nilai variabel setelah perubahan terakhir sebelum operasi tersebut yang akan digunakan.\n",
    "- Tanda '=' menandakan value assignment"
   ],
   "cell_type": "markdown",
   "metadata": {}
  },
  {
   "source": [
    "# Comments\n",
    "- Menggunakan tanda # di awal Comment\n",
    "- Multi-line comment menggunakan multi-line string literal"
   ],
   "cell_type": "markdown",
   "metadata": {}
  },
  {
   "cell_type": "code",
   "execution_count": 8,
   "metadata": {},
   "outputs": [
    {
     "output_type": "stream",
     "name": "stdout",
     "text": [
      "Hello world!\n"
     ]
    }
   ],
   "source": [
    "# this is a comment\n",
    "\"\"\"this\n",
    "is\n",
    "a \n",
    "multi-line\n",
    "comment\"\"\"\n",
    "print(\"Hello world!\")"
   ]
  },
  {
   "source": [
    "## Input\n",
    "- Menerima input dari keyboard dengan tipe \"String\"\n",
    "- Untuk diproses, input harus diconvert ke tipe yang berbeda. Contoh: int(input()) atau float(input())"
   ],
   "cell_type": "markdown",
   "metadata": {}
  }
 ]
}