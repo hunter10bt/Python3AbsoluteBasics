{
 "metadata": {
  "language_info": {
   "codemirror_mode": {
    "name": "ipython",
    "version": 3
   },
   "file_extension": ".py",
   "mimetype": "text/x-python",
   "name": "python",
   "nbconvert_exporter": "python",
   "pygments_lexer": "ipython3",
   "version": 3
  },
  "orig_nbformat": 2
 },
 "nbformat": 4,
 "nbformat_minor": 2,
 "cells": [
  {
   "source": [
    "# 19 Februari 2021"
   ],
   "cell_type": "markdown",
   "metadata": {}
  },
  {
   "source": [
    "## Instalasi\n",
    "- Anaconda: Install module dari bawaan Anaconda, bukan Python<br>\n",
    "- Instalasi Anaconda belum tentu sama dengan stable release terbaru dari Python<br>"
   ],
   "cell_type": "markdown",
   "metadata": {}
  },
  {
   "source": [
    "## Error<br>\n",
    "- Interpreter bisa menunjukkan error di mana, tergantung pada error.<br>"
   ],
   "cell_type": "markdown",
   "metadata": {}
  },
  {
   "cell_type": "code",
   "execution_count": null,
   "metadata": {},
   "outputs": [],
   "source": [
    "msg = \"Hello world!\"\n",
    "print(msg)\n",
    "msg = 'Hello world!'\n",
    "print(msg)"
   ]
  }
 ]
}